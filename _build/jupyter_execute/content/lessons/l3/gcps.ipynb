{
 "cells": [
  {
   "cell_type": "markdown",
   "metadata": {},
   "source": [
    "# Ground control points\n",
    "\n",
    "Ground control points (GCPs) are locations that we can track with high precision and accuracy between the targeted object and a selection of our photos.\n",
    "We can use these to provide \"exact\" real world coordinates to our reconstructed models, as well as to determine the accuracy and impact of processing parameters.\n",
    "\n",
    "In a mapping survey, GCPs are points which can be precisely pinpointed.\n",
    "This precision not only applies to the points themselves, but can also be interpolated to the mesh between GCPs.\n",
    "It is therefore possible to accurately map large areas with only a handful of known coordinates.\n",
    "\n",
    "```{admonition} built-in GPS\n",
    "The images taken from drones or GPS-equipped cameras store the *image location* in the image's metadata.\n",
    "Metashape automatically imports this upon loading.\n",
    "Keep in mind, however, that built-in GPSs still have quite large errors compared to differential GPS and similar.\n",
    "```"
   ]
  },
  {
   "cell_type": "code",
   "execution_count": null,
   "metadata": {},
   "outputs": [],
   "source": [
    "from myst_nb import glue\n",
    "a = \"my variable!\"\n",
    "print(a)\n",
    "glue(\"my_variable\", a)"
   ]
  },
  {
   "cell_type": "markdown",
   "metadata": {},
   "source": [
    "You can then insert it into your text like so: {glue:}`my_variable`."
   ]
  }
 ],
 "metadata": {
  "jupytext": {
   "text_representation": {
    "extension": ".md",
    "format_name": "myst",
    "format_version": "0.8",
    "jupytext_version": "1.4.1"
   }
  },
  "kernelspec": {
   "display_name": "Python 3",
   "language": "python",
   "name": "python3"
  },
  "source_map": [
   12,
   29,
   34
  ]
 },
 "nbformat": 4,
 "nbformat_minor": 4
}